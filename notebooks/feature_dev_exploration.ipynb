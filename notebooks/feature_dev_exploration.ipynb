{
 "cells": [
  {
   "cell_type": "markdown",
   "id": "a79028a1",
   "metadata": {},
   "source": [
    "# 🧪 Feature Engineering – Exploração"
   ]
  },
  {
   "cell_type": "code",
   "execution_count": null,
   "id": "435634cb",
   "metadata": {},
   "outputs": [],
   "source": [
    "import pandas as pd\n",
    "\n",
    "df = pd.read_parquet('data/features.parquet')\n",
    "df.head()"
   ]
  },
  {
   "cell_type": "code",
   "execution_count": null,
   "id": "b47c32d9",
   "metadata": {},
   "outputs": [],
   "source": [
    "df.describe()"
   ]
  },
  {
   "cell_type": "code",
   "execution_count": null,
   "id": "a90ad2e8",
   "metadata": {},
   "outputs": [],
   "source": [
    "# Análise de correlação e visualização"
   ]
  }
 ],
 "metadata": {},
 "nbformat": 4,
 "nbformat_minor": 5
}
