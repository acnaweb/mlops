{
 "cells": [
  {
   "cell_type": "markdown",
   "id": "513692f4",
   "metadata": {},
   "source": [
    "# 📘 Módulo 1: Fundamentos de CD4ML\n",
    "\n",
    "Este notebook apresenta os conceitos iniciais de Continuous Delivery for Machine Learning, com foco em práticas e desafios reais de projetos de ML em produção."
   ]
  },
  {
   "cell_type": "markdown",
   "id": "20235f28",
   "metadata": {},
   "source": [
    "## 🔍 O que é CD4ML?\n",
    "CD4ML (Continuous Delivery for Machine Learning) é a prática de aplicar princípios de engenharia de software e DevOps ao ciclo de vida de Machine Learning, com foco em:\n",
    "\n",
    "- Versionamento de dados, código e modelo\n",
    "- Pipelines automatizados\n",
    "- Testes em ML (unitários, de validação e de performance)\n",
    "- Deploy contínuo e monitoramento de modelos\n"
   ]
  },
  {
   "cell_type": "code",
   "execution_count": null,
   "id": "9836ba0a",
   "metadata": {},
   "outputs": [],
   "source": [
    "# Simulação de um ciclo simplificado de ML\n",
    "from sklearn.datasets import load_iris\n",
    "from sklearn.model_selection import train_test_split\n",
    "from sklearn.ensemble import RandomForestClassifier\n",
    "from joblib import dump\n",
    "import pandas as pd\n",
    "\n",
    "# Load e split\n",
    "data = load_iris()\n",
    "X_train, X_test, y_train, y_test = train_test_split(data.data, data.target, test_size=0.3, random_state=42)\n",
    "\n",
    "# Treinamento do modelo\n",
    "model = RandomForestClassifier(n_estimators=100, random_state=42)\n",
    "model.fit(X_train, y_train)\n",
    "\n",
    "# Avaliação\n",
    "acc = model.score(X_test, y_test)\n",
    "print(f\"Acurácia: {acc:.2f}\")\n",
    "\n",
    "# Exportação do modelo\n",
    "dump(model, \"iris_model.joblib\")\n"
   ]
  },
  {
   "cell_type": "markdown",
   "id": "2073faad",
   "metadata": {},
   "source": [
    "## 💡 Reflexão\n",
    "\n",
    "1. O que aconteceria se você mudasse a base de dados?\n",
    "2. Como garantir que o modelo possa ser reproduzido e testado novamente?\n",
    "3. Como você versionaria este modelo com dados e código?\n"
   ]
  },
  {
   "cell_type": "markdown",
   "id": "73dd5162",
   "metadata": {},
   "source": [
    "## ✅ Checklist de Aprendizado\n",
    "\n",
    "- [x] Entendeu o que é CD4ML\n",
    "- [x] Conheceu o ciclo básico de um modelo ML\n",
    "- [ ] Conectou o conceito com problemas reais de produção\n"
   ]
  }
 ],
 "metadata": {},
 "nbformat": 4,
 "nbformat_minor": 5
}