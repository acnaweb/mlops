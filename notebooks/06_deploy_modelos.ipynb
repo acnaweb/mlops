{
 "cells": [
  {
   "cell_type": "markdown",
   "id": "6f9cb86e",
   "metadata": {},
   "source": [
    "# 🚀 Módulo 6: Deploy Contínuo de Modelos\n",
    "\n",
    "## 🎯 Objetivo\n",
    "\n",
    "Automatizar o deploy de modelos com validação, rollback e observabilidade.\n",
    "\n",
    "## 🎯 Estratégias\n",
    "\n",
    "- Canary Release\n",
    "- Blue/Green\n",
    "- A/B Testing\n",
    "\n",
    "## 🧾 Exemplo com FastAPI\n",
    "\n",
    "```python\n",
    "from fastapi import FastAPI\n",
    "import joblib\n",
    "\n",
    "app = FastAPI()\n",
    "model = joblib.load(\"iris_model.joblib\")\n",
    "\n",
    "@app.post(\"/predict\")\n",
    "def predict(features: list[float]):\n",
    "    return {\"prediction\": model.predict([features]).tolist()}\n",
    "```\n",
    "\n",
    "Execute com:\n",
    "\n",
    "```bash\n",
    "uvicorn app:app --reload\n",
    "```\n"
   ]
  }
 ],
 "metadata": {},
 "nbformat": 4,
 "nbformat_minor": 5
}