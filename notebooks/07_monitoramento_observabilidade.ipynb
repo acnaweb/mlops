{
 "cells": [
  {
   "cell_type": "markdown",
   "id": "0671d19d",
   "metadata": {},
   "source": [
    "# 📈 Módulo 7: Monitoramento e Observabilidade\n",
    "\n",
    "## 🎯 Objetivo\n",
    "\n",
    "Monitorar performance e detectar drifts dos modelos em produção.\n",
    "\n",
    "## 🔧 Ferramentas\n",
    "\n",
    "- Prometheus + Grafana\n",
    "- Evidently AI\n",
    "- Logging estruturado (Cloud Logging, ELK)\n",
    "\n",
    "## 🧾 Exemplo com Evidently\n",
    "\n",
    "```python\n",
    "from evidently.report import Report\n",
    "from evidently.metric_preset import DataDriftPreset\n",
    "\n",
    "report = Report(metrics=[DataDriftPreset()])\n",
    "report.run(reference_data=ref_df, current_data=prod_df)\n",
    "report.save_html(\"drift_report.html\")\n",
    "```\n"
   ]
  }
 ],
 "metadata": {},
 "nbformat": 4,
 "nbformat_minor": 5
}