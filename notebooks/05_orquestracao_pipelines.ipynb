{
 "cells": [
  {
   "cell_type": "markdown",
   "id": "b8c749a8",
   "metadata": {},
   "source": [
    "# ⛓️ Módulo 5: Orquestração e Pipelines\n",
    "\n",
    "## 🎯 Objetivo\n",
    "\n",
    "Criar pipelines reutilizáveis e versionados com ferramentas de orquestração.\n",
    "\n",
    "## 🛠️ Ferramentas\n",
    "\n",
    "- Apache Airflow\n",
    "- Google Vertex AI Pipelines\n",
    "- Metaflow\n",
    "\n",
    "## 🧾 Exemplo com Airflow\n",
    "\n",
    "```python\n",
    "from airflow import DAG\n",
    "from airflow.operators.python_operator import PythonOperator\n",
    "from datetime import datetime\n",
    "\n",
    "def treino_modelo():\n",
    "    print(\"Treinando modelo...\")\n",
    "\n",
    "with DAG(\"pipeline_ml\", start_date=datetime(2023,1,1), schedule_interval=\"@daily\", catchup=False) as dag:\n",
    "    treino = PythonOperator(task_id=\"treino_modelo\", python_callable=treino_modelo)\n",
    "```\n"
   ]
  }
 ],
 "metadata": {},
 "nbformat": 4,
 "nbformat_minor": 5
}