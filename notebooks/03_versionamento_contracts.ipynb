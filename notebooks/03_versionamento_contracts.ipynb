{
 "cells": [
  {
   "cell_type": "markdown",
   "id": "b77e28c9",
   "metadata": {},
   "source": [
    "# 🗃️ Módulo 3: Versionamento e Data Contracts\n",
    "\n",
    "## 🎯 Objetivo\n",
    "\n",
    "Aplicar versionamento de código, dados e modelos, além de estruturar contratos de dados.\n",
    "\n",
    "## 🧪 Ferramentas\n",
    "\n",
    "- Git para código\n",
    "- DVC para versionamento de dados e modelos\n",
    "- YAML + Pydantic para contratos de dados\n",
    "\n",
    "## 🧾 Exemplo de contrato de dados\n",
    "\n",
    "```yaml\n",
    "name: customer_churn\n",
    "description: Dados de entrada para predição de churn\n",
    "fields:\n",
    "  - name: customer_id\n",
    "    type: string\n",
    "    required: true\n",
    "  - name: age\n",
    "    type: integer\n",
    "    required: true\n",
    "  - name: churned\n",
    "    type: boolean\n",
    "    required: false\n",
    "```\n",
    "\n",
    "## 📌 Tarefa\n",
    "\n",
    "Implemente um validador de contrato usando `pydantic` ou `marshmallow`.\n"
   ]
  }
 ],
 "metadata": {},
 "nbformat": 4,
 "nbformat_minor": 5
}