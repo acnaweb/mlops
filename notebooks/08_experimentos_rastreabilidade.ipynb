{
 "cells": [
  {
   "cell_type": "markdown",
   "id": "872c9570",
   "metadata": {},
   "source": [
    "# 🔬 Módulo 8: Experimentos e Rastreabilidade\n",
    "\n",
    "## 🎯 Objetivo\n",
    "\n",
    "Controlar experimentos e garantir rastreabilidade de código, dados e métricas.\n",
    "\n",
    "## 🧰 Ferramentas\n",
    "\n",
    "- MLflow\n",
    "- Vertex AI Experiments\n",
    "- Weights & Biases\n",
    "\n",
    "## 🧾 Exemplo com MLflow\n",
    "\n",
    "```python\n",
    "import mlflow\n",
    "\n",
    "with mlflow.start_run():\n",
    "    mlflow.log_param(\"n_estimators\", 100)\n",
    "    mlflow.log_metric(\"accuracy\", 0.94)\n",
    "    mlflow.sklearn.log_model(model, \"modelo_rf\")\n",
    "```\n"
   ]
  }
 ],
 "metadata": {},
 "nbformat": 4,
 "nbformat_minor": 5
}