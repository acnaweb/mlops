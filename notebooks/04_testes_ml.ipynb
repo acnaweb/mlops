{
 "cells": [
  {
   "cell_type": "markdown",
   "id": "a154e4b0",
   "metadata": {},
   "source": [
    "# 🧪 Módulo 4: Testes em Machine Learning\n",
    "\n",
    "## 🎯 Objetivo\n",
    "\n",
    "Aprender a implementar testes em projetos de ML: unitários, de dados, de modelo e integração.\n",
    "\n",
    "## 🧪 Tipos de Testes\n",
    "\n",
    "- Teste unitário: função de pré-processamento\n",
    "- Teste de schema: validadores de entrada\n",
    "- Teste de modelo: performance mínima\n",
    "- Teste de integração: pipeline de ponta a ponta\n",
    "\n",
    "## 🧾 Exemplo de Teste com `pytest`\n",
    "\n",
    "```python\n",
    "def test_normaliza_idade():\n",
    "    from pipeline.utils import normaliza_idade\n",
    "    assert normaliza_idade(50) == 1.0\n",
    "    assert normaliza_idade(0) == 0.0\n",
    "```\n",
    "\n",
    "```bash\n",
    "pytest tests/\n",
    "```\n"
   ]
  }
 ],
 "metadata": {},
 "nbformat": 4,
 "nbformat_minor": 5
}