{
 "cells": [
  {
   "cell_type": "markdown",
   "id": "c2de16bf",
   "metadata": {},
   "source": [
    "# 🏗️ Módulo 9: Padrões de Projeto em CD4ML\n",
    "\n",
    "## 🎯 Objetivo\n",
    "\n",
    "Aplicar boas práticas e padrões para código modular, testável e manutenível.\n",
    "\n",
    "## 🔁 Padrões Relevantes\n",
    "\n",
    "- Factory (para criação de modelos)\n",
    "- Strategy (para validação)\n",
    "- Adapter (para integração de APIs)\n",
    "\n",
    "## 🧾 Exemplo: Factory Pattern para Modelos\n",
    "\n",
    "```python\n",
    "def get_model(tipo):\n",
    "    if tipo == \"rf\":\n",
    "        from sklearn.ensemble import RandomForestClassifier\n",
    "        return RandomForestClassifier()\n",
    "    elif tipo == \"svc\":\n",
    "        from sklearn.svm import SVC\n",
    "        return SVC()\n",
    "```\n"
   ]
  }
 ],
 "metadata": {},
 "nbformat": 4,
 "nbformat_minor": 5
}