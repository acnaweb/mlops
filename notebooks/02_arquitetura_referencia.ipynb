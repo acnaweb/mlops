{
 "cells": [
  {
   "cell_type": "markdown",
   "id": "bbcecb39",
   "metadata": {},
   "source": [
    "# 📐 Módulo 2: Arquitetura de Referência para CD4ML\n",
    "\n",
    "## 🎯 Objetivo\n",
    "\n",
    "Compreender como estruturar uma arquitetura robusta para CD4ML, alinhada com os padrões da indústria.\n",
    "\n",
    "## 🔧 Componentes Principais\n",
    "\n",
    "- Repositório Git com versionamento de código e dados\n",
    "- Pipeline de CI/CD (GitHub Actions, GitLab CI, Azure DevOps)\n",
    "- Orquestrador de pipelines (Airflow, Vertex AI, Metaflow)\n",
    "- Feature Store (Feast)\n",
    "- Experiment Tracking (MLflow, Vertex AI)\n",
    "- Model Registry\n",
    "- Model Serving (FastAPI, Flask, TensorFlow Serving)\n",
    "- Monitoramento (Prometheus, Grafana, Evidently AI)\n",
    "\n",
    "## 📊 Diagrama C4\n",
    "\n",
    "Você pode modelar sua arquitetura em 3 níveis:\n",
    "- Contexto: interação entre usuários e o sistema ML\n",
    "- Contêineres: principais blocos funcionais\n",
    "- Componentes: scripts, serviços, APIs e validadores\n",
    "\n",
    "## 📌 Atividade\n",
    "\n",
    "Crie um diagrama de arquitetura CD4ML usando C4 Model (ou draw.io/Whimsical).\n"
   ]
  }
 ],
 "metadata": {},
 "nbformat": 4,
 "nbformat_minor": 5
}