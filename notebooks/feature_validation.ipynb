{
 "cells": [
  {
   "cell_type": "markdown",
   "id": "5df499d8",
   "metadata": {},
   "source": [
    "# ✅ Validação de Features com Feast"
   ]
  },
  {
   "cell_type": "code",
   "execution_count": null,
   "id": "d7134805",
   "metadata": {},
   "outputs": [],
   "source": [
    "from feast import FeatureStore\n",
    "store = FeatureStore(repo_path='templates/feature_repo')\n",
    "store.validate()"
   ]
  },
  {
   "cell_type": "code",
   "execution_count": null,
   "id": "0425537d",
   "metadata": {},
   "outputs": [],
   "source": [
    "store.list_feature_views()"
   ]
  },
  {
   "cell_type": "code",
   "execution_count": null,
   "id": "147a896e",
   "metadata": {},
   "outputs": [],
   "source": [
    "store.list_entities()"
   ]
  }
 ],
 "metadata": {},
 "nbformat": 4,
 "nbformat_minor": 5
}
